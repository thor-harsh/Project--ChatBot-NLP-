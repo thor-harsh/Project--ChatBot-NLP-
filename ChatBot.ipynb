{
  "nbformat": 4,
  "nbformat_minor": 0,
  "metadata": {
    "colab": {
      "provenance": []
    },
    "kernelspec": {
      "name": "python3",
      "display_name": "Python 3"
    },
    "language_info": {
      "name": "python"
    }
  },
  "cells": [
    {
      "cell_type": "code",
      "execution_count": 1,
      "metadata": {
        "id": "aRP4WHEg3xH2"
      },
      "outputs": [],
      "source": [
        "import pickle\n",
        "import numpy as np\n",
        "#RNN With LSTM(Memory Networks)"
      ]
    },
    {
      "cell_type": "code",
      "source": [
        "with open(\"train_qa.txt\",'rb') as f:\n",
        "  train_data=pickle.load(f)"
      ],
      "metadata": {
        "id": "zBsjQkdW31Jk"
      },
      "execution_count": 2,
      "outputs": []
    },
    {
      "cell_type": "code",
      "source": [
        "with open(\"test_qa.txt\",'rb') as f:\n",
        "  test_data=pickle.load(f)"
      ],
      "metadata": {
        "id": "Wv-NJQqX4BTR"
      },
      "execution_count": 3,
      "outputs": []
    },
    {
      "cell_type": "code",
      "source": [
        "type(train_data)"
      ],
      "metadata": {
        "colab": {
          "base_uri": "https://localhost:8080/"
        },
        "id": "m59_xz5N4GE3",
        "outputId": "87f832de-a418-43a3-aa53-23ad7603a759"
      },
      "execution_count": 4,
      "outputs": [
        {
          "output_type": "execute_result",
          "data": {
            "text/plain": [
              "list"
            ]
          },
          "metadata": {},
          "execution_count": 4
        }
      ]
    },
    {
      "cell_type": "code",
      "source": [
        "type(test_data)"
      ],
      "metadata": {
        "id": "COg63X0A4L5c",
        "colab": {
          "base_uri": "https://localhost:8080/"
        },
        "outputId": "26375d78-4e13-4fdc-8a0c-6f58e7ed7892"
      },
      "execution_count": 5,
      "outputs": [
        {
          "output_type": "execute_result",
          "data": {
            "text/plain": [
              "list"
            ]
          },
          "metadata": {},
          "execution_count": 5
        }
      ]
    },
    {
      "cell_type": "code",
      "source": [
        "len(train_data)"
      ],
      "metadata": {
        "colab": {
          "base_uri": "https://localhost:8080/"
        },
        "id": "DLI2-Tle4Mwy",
        "outputId": "b26d406b-0ab2-40be-cd4c-3156f5700512"
      },
      "execution_count": 6,
      "outputs": [
        {
          "output_type": "execute_result",
          "data": {
            "text/plain": [
              "10000"
            ]
          },
          "metadata": {},
          "execution_count": 6
        }
      ]
    },
    {
      "cell_type": "code",
      "source": [
        "len(test_data)"
      ],
      "metadata": {
        "colab": {
          "base_uri": "https://localhost:8080/"
        },
        "id": "EQ1qkUPZ4QNq",
        "outputId": "47a48e54-e334-433d-999e-2f5eb88fcee0"
      },
      "execution_count": 7,
      "outputs": [
        {
          "output_type": "execute_result",
          "data": {
            "text/plain": [
              "1000"
            ]
          },
          "metadata": {},
          "execution_count": 7
        }
      ]
    },
    {
      "cell_type": "code",
      "source": [
        "\" \".join(train_data[0][0])"
      ],
      "metadata": {
        "colab": {
          "base_uri": "https://localhost:8080/",
          "height": 36
        },
        "id": "Dq_eU-zY4Ra0",
        "outputId": "91583c16-20b4-463b-bbbc-5c6e671bfea0"
      },
      "execution_count": 8,
      "outputs": [
        {
          "output_type": "execute_result",
          "data": {
            "text/plain": [
              "'Mary moved to the bathroom . Sandra journeyed to the bedroom .'"
            ],
            "application/vnd.google.colaboratory.intrinsic+json": {
              "type": "string"
            }
          },
          "metadata": {},
          "execution_count": 8
        }
      ]
    },
    {
      "cell_type": "code",
      "source": [
        "\" \".join(train_data[0][1])"
      ],
      "metadata": {
        "colab": {
          "base_uri": "https://localhost:8080/",
          "height": 36
        },
        "id": "oKZXBs0W4WC5",
        "outputId": "e3f3c977-a147-42f6-8241-6e1c45ceeed4"
      },
      "execution_count": 9,
      "outputs": [
        {
          "output_type": "execute_result",
          "data": {
            "text/plain": [
              "'Is Sandra in the hallway ?'"
            ],
            "application/vnd.google.colaboratory.intrinsic+json": {
              "type": "string"
            }
          },
          "metadata": {},
          "execution_count": 9
        }
      ]
    },
    {
      "cell_type": "code",
      "source": [
        "train_data[0][2]"
      ],
      "metadata": {
        "colab": {
          "base_uri": "https://localhost:8080/",
          "height": 36
        },
        "id": "3Uwl-mZh4uzL",
        "outputId": "6d4e5399-3e44-4641-a159-e4fc1b239a06"
      },
      "execution_count": 10,
      "outputs": [
        {
          "output_type": "execute_result",
          "data": {
            "text/plain": [
              "'no'"
            ],
            "application/vnd.google.colaboratory.intrinsic+json": {
              "type": "string"
            }
          },
          "metadata": {},
          "execution_count": 10
        }
      ]
    },
    {
      "cell_type": "code",
      "source": [
        "all_data=train_data+test_data"
      ],
      "metadata": {
        "id": "O96LXOe74wZs"
      },
      "execution_count": 11,
      "outputs": []
    },
    {
      "cell_type": "code",
      "source": [
        "len(all_data)"
      ],
      "metadata": {
        "colab": {
          "base_uri": "https://localhost:8080/"
        },
        "id": "S39kTGTB4_bo",
        "outputId": "f3547afd-4734-4bcc-853f-7f601ac07a1c"
      },
      "execution_count": 12,
      "outputs": [
        {
          "output_type": "execute_result",
          "data": {
            "text/plain": [
              "11000"
            ]
          },
          "metadata": {},
          "execution_count": 12
        }
      ]
    },
    {
      "cell_type": "code",
      "source": [
        "vocab=set()"
      ],
      "metadata": {
        "id": "Pss2fNcp5gq1"
      },
      "execution_count": 13,
      "outputs": []
    },
    {
      "cell_type": "code",
      "source": [
        "for story,question,answer in all_data:\n",
        "  vocab=vocab.union(set(story))\n",
        "  vocab=vocab.union(set(question))"
      ],
      "metadata": {
        "id": "xUKAyq7-5Z-H"
      },
      "execution_count": 14,
      "outputs": []
    },
    {
      "cell_type": "code",
      "source": [
        "vocab.add('no')\n",
        "vocab.add('yes')"
      ],
      "metadata": {
        "id": "mXclN_Tl5eb4"
      },
      "execution_count": 15,
      "outputs": []
    },
    {
      "cell_type": "code",
      "source": [
        "len(vocab)"
      ],
      "metadata": {
        "colab": {
          "base_uri": "https://localhost:8080/"
        },
        "id": "5BDEr_D05lLr",
        "outputId": "dc0fb286-b266-40f8-a5d5-e913caa6cabb"
      },
      "execution_count": 16,
      "outputs": [
        {
          "output_type": "execute_result",
          "data": {
            "text/plain": [
              "37"
            ]
          },
          "metadata": {},
          "execution_count": 16
        }
      ]
    },
    {
      "cell_type": "code",
      "source": [
        "vocab"
      ],
      "metadata": {
        "colab": {
          "base_uri": "https://localhost:8080/"
        },
        "id": "pSC7ag1c53P8",
        "outputId": "0cd824a2-a912-461f-d7bc-83b6e2891e3a"
      },
      "execution_count": 17,
      "outputs": [
        {
          "output_type": "execute_result",
          "data": {
            "text/plain": [
              "{'.',\n",
              " '?',\n",
              " 'Daniel',\n",
              " 'Is',\n",
              " 'John',\n",
              " 'Mary',\n",
              " 'Sandra',\n",
              " 'apple',\n",
              " 'back',\n",
              " 'bathroom',\n",
              " 'bedroom',\n",
              " 'discarded',\n",
              " 'down',\n",
              " 'dropped',\n",
              " 'football',\n",
              " 'garden',\n",
              " 'got',\n",
              " 'grabbed',\n",
              " 'hallway',\n",
              " 'in',\n",
              " 'journeyed',\n",
              " 'kitchen',\n",
              " 'left',\n",
              " 'milk',\n",
              " 'moved',\n",
              " 'no',\n",
              " 'office',\n",
              " 'picked',\n",
              " 'put',\n",
              " 'the',\n",
              " 'there',\n",
              " 'to',\n",
              " 'took',\n",
              " 'travelled',\n",
              " 'up',\n",
              " 'went',\n",
              " 'yes'}"
            ]
          },
          "metadata": {},
          "execution_count": 17
        }
      ]
    },
    {
      "cell_type": "code",
      "source": [
        "vocab_len=len(vocab)+1"
      ],
      "metadata": {
        "id": "8IP0qn4C55MI"
      },
      "execution_count": 18,
      "outputs": []
    },
    {
      "cell_type": "code",
      "source": [
        "vocab_len"
      ],
      "metadata": {
        "colab": {
          "base_uri": "https://localhost:8080/"
        },
        "id": "QRIRxxTB6PR4",
        "outputId": "1dd4951b-6b60-4564-8a0a-1d1f6215ee55"
      },
      "execution_count": 19,
      "outputs": [
        {
          "output_type": "execute_result",
          "data": {
            "text/plain": [
              "38"
            ]
          },
          "metadata": {},
          "execution_count": 19
        }
      ]
    },
    {
      "cell_type": "code",
      "source": [
        "\n",
        "all_story_lens=[len(data[0]) for data in all_data]"
      ],
      "metadata": {
        "id": "e3hMG0Tc6QSC"
      },
      "execution_count": 20,
      "outputs": []
    },
    {
      "cell_type": "code",
      "source": [
        "max_story_len=max(all_story_lens)"
      ],
      "metadata": {
        "id": "5rLmQj4n6whK"
      },
      "execution_count": 21,
      "outputs": []
    },
    {
      "cell_type": "code",
      "source": [
        "max_question_len=max([len(data[1]) for data in all_data])"
      ],
      "metadata": {
        "id": "1U3tNe2W60h7"
      },
      "execution_count": 64,
      "outputs": []
    },
    {
      "cell_type": "code",
      "source": [
        "max_question_len"
      ],
      "metadata": {
        "colab": {
          "base_uri": "https://localhost:8080/"
        },
        "id": "FCP7xB3w7IV1",
        "outputId": "ee64cee6-281a-49e7-c8b4-8cdee1404122"
      },
      "execution_count": 65,
      "outputs": [
        {
          "output_type": "execute_result",
          "data": {
            "text/plain": [
              "6"
            ]
          },
          "metadata": {},
          "execution_count": 65
        }
      ]
    },
    {
      "cell_type": "code",
      "source": [
        "# We have Reserve 0 for keras pad_sequences\n",
        "vocab_size = len(vocab) + 1"
      ],
      "metadata": {
        "id": "8fxq_SmkEatE"
      },
      "execution_count": 56,
      "outputs": []
    },
    {
      "cell_type": "code",
      "source": [
        "from keras.preprocessing.sequence import pad_sequences\n",
        "from keras.preprocessing.text import Tokenizer\n",
        "\n",
        "tokenizer = Tokenizer(filters=[])\n",
        "tokenizer.fit_on_texts(vocab)\n",
        "tokenizer.word_index"
      ],
      "metadata": {
        "colab": {
          "base_uri": "https://localhost:8080/"
        },
        "id": "IzJswx9rEhf6",
        "outputId": "dabba975-529f-43db-f466-3a01fdaa59d6"
      },
      "execution_count": 58,
      "outputs": [
        {
          "output_type": "execute_result",
          "data": {
            "text/plain": [
              "{'in': 1,\n",
              " 'left': 2,\n",
              " 'discarded': 3,\n",
              " 'to': 4,\n",
              " 'daniel': 5,\n",
              " 'down': 6,\n",
              " 'went': 7,\n",
              " 'office': 8,\n",
              " 'is': 9,\n",
              " 'football': 10,\n",
              " 'moved': 11,\n",
              " 'up': 12,\n",
              " 'travelled': 13,\n",
              " 'kitchen': 14,\n",
              " 'no': 15,\n",
              " 'picked': 16,\n",
              " '?': 17,\n",
              " 'put': 18,\n",
              " 'grabbed': 19,\n",
              " 'yes': 20,\n",
              " 'took': 21,\n",
              " 'bathroom': 22,\n",
              " 'got': 23,\n",
              " 'back': 24,\n",
              " 'dropped': 25,\n",
              " 'garden': 26,\n",
              " 'hallway': 27,\n",
              " '.': 28,\n",
              " 'there': 29,\n",
              " 'bedroom': 30,\n",
              " 'john': 31,\n",
              " 'apple': 32,\n",
              " 'the': 33,\n",
              " 'mary': 34,\n",
              " 'sandra': 35,\n",
              " 'milk': 36,\n",
              " 'journeyed': 37}"
            ]
          },
          "metadata": {},
          "execution_count": 58
        }
      ]
    },
    {
      "cell_type": "code",
      "source": [
        "train_story_text = []\n",
        "train_question_text = []\n",
        "train_answers = []\n",
        "\n",
        "for story,question,answer in train_data:\n",
        "    train_story_text.append(story)\n",
        "    train_question_text.append(question)"
      ],
      "metadata": {
        "id": "FKgtlrqiEnhR"
      },
      "execution_count": 59,
      "outputs": []
    },
    {
      "cell_type": "code",
      "source": [
        "train_story_seq = tokenizer.texts_to_sequences(train_story_text)"
      ],
      "metadata": {
        "id": "pwAaVmTjEpo8"
      },
      "execution_count": 60,
      "outputs": []
    },
    {
      "cell_type": "code",
      "source": [
        "len(train_story_text)"
      ],
      "metadata": {
        "colab": {
          "base_uri": "https://localhost:8080/"
        },
        "id": "W13C8v_MEr7L",
        "outputId": "2e90344f-b7de-4a46-ea94-af58eb37bc98"
      },
      "execution_count": 61,
      "outputs": [
        {
          "output_type": "execute_result",
          "data": {
            "text/plain": [
              "10000"
            ]
          },
          "metadata": {},
          "execution_count": 61
        }
      ]
    },
    {
      "cell_type": "code",
      "source": [
        "len(train_story_seq)"
      ],
      "metadata": {
        "colab": {
          "base_uri": "https://localhost:8080/"
        },
        "id": "T4H13Y87Etig",
        "outputId": "52c2e61a-914b-4049-a0df-78fdc4e0cb69"
      },
      "execution_count": 62,
      "outputs": [
        {
          "output_type": "execute_result",
          "data": {
            "text/plain": [
              "10000"
            ]
          },
          "metadata": {},
          "execution_count": 62
        }
      ]
    },
    {
      "cell_type": "code",
      "source": [
        "def vectorize_stories(data, word_index=tokenizer.word_index, max_story_len=max_story_len,max_question_len=max_question_len):\n",
        "\n",
        "\n",
        "\n",
        "    X = []\n",
        "\n",
        "    Xq = []\n",
        "\n",
        "    Y = []\n",
        "\n",
        "\n",
        "    for story, query, answer in data:\n",
        "\n",
        "\n",
        "        x = [word_index[word.lower()] for word in story]\n",
        "\n",
        "        xq = [word_index[word.lower()] for word in query]\n",
        "\n",
        "\n",
        "        y = np.zeros(len(word_index) + 1)\n",
        "\n",
        "\n",
        "        y[word_index[answer]] = 1\n",
        "\n",
        "        X.append(x)\n",
        "        Xq.append(xq)\n",
        "        Y.append(y)\n",
        "\n",
        "\n",
        "    return (pad_sequences(X, maxlen=max_story_len),pad_sequences(Xq, maxlen=max_question_len), np.array(Y))"
      ],
      "metadata": {
        "id": "MatnPrUTEvVR"
      },
      "execution_count": 66,
      "outputs": []
    },
    {
      "cell_type": "code",
      "source": [
        "inputs_train, queries_train, answers_train = vectorize_stories(train_data)"
      ],
      "metadata": {
        "id": "q1-NOYPhEx69"
      },
      "execution_count": 67,
      "outputs": []
    },
    {
      "cell_type": "code",
      "source": [
        "inputs_test, queries_test, answers_test = vectorize_stories(test_data)"
      ],
      "metadata": {
        "id": "1b84XR-mE6XB"
      },
      "execution_count": 68,
      "outputs": []
    },
    {
      "cell_type": "code",
      "source": [
        "inputs_test"
      ],
      "metadata": {
        "colab": {
          "base_uri": "https://localhost:8080/"
        },
        "id": "5-rE7wNSE7nC",
        "outputId": "d6966dae-80ac-4349-95bf-ced18dd735a3"
      },
      "execution_count": 69,
      "outputs": [
        {
          "output_type": "execute_result",
          "data": {
            "text/plain": [
              "array([[ 0,  0,  0, ..., 33, 30, 28],\n",
              "       [ 0,  0,  0, ..., 33, 26, 28],\n",
              "       [ 0,  0,  0, ..., 33, 26, 28],\n",
              "       ...,\n",
              "       [ 0,  0,  0, ..., 33, 32, 28],\n",
              "       [ 0,  0,  0, ..., 33, 26, 28],\n",
              "       [ 0,  0,  0, ..., 32, 29, 28]], dtype=int32)"
            ]
          },
          "metadata": {},
          "execution_count": 69
        }
      ]
    },
    {
      "cell_type": "code",
      "source": [
        "queries_test"
      ],
      "metadata": {
        "colab": {
          "base_uri": "https://localhost:8080/"
        },
        "id": "jX_DbVUZE8zo",
        "outputId": "ef58d69d-170b-4dc8-bdf7-6c3c046fe020"
      },
      "execution_count": 70,
      "outputs": [
        {
          "output_type": "execute_result",
          "data": {
            "text/plain": [
              "array([[ 9, 31,  1, 33, 14, 17],\n",
              "       [ 9, 31,  1, 33, 14, 17],\n",
              "       [ 9, 31,  1, 33, 26, 17],\n",
              "       ...,\n",
              "       [ 9, 34,  1, 33, 30, 17],\n",
              "       [ 9, 35,  1, 33, 26, 17],\n",
              "       [ 9, 34,  1, 33, 26, 17]], dtype=int32)"
            ]
          },
          "metadata": {},
          "execution_count": 70
        }
      ]
    },
    {
      "cell_type": "code",
      "source": [
        "answers_test"
      ],
      "metadata": {
        "colab": {
          "base_uri": "https://localhost:8080/"
        },
        "id": "92FIMBUIE-XI",
        "outputId": "b3058819-3fd6-4db2-bc9d-9cf3871bf7e4"
      },
      "execution_count": 71,
      "outputs": [
        {
          "output_type": "execute_result",
          "data": {
            "text/plain": [
              "array([[0., 0., 0., ..., 0., 0., 0.],\n",
              "       [0., 0., 0., ..., 0., 0., 0.],\n",
              "       [0., 0., 0., ..., 0., 0., 0.],\n",
              "       ...,\n",
              "       [0., 0., 0., ..., 0., 0., 0.],\n",
              "       [0., 0., 0., ..., 0., 0., 0.],\n",
              "       [0., 0., 0., ..., 0., 0., 0.]])"
            ]
          },
          "metadata": {},
          "execution_count": 71
        }
      ]
    },
    {
      "cell_type": "code",
      "source": [
        "sum(answers_test)"
      ],
      "metadata": {
        "colab": {
          "base_uri": "https://localhost:8080/"
        },
        "id": "7xX9iCfDFAeo",
        "outputId": "be6cbae0-1ccb-406c-9a13-2d75d5c58788"
      },
      "execution_count": 72,
      "outputs": [
        {
          "output_type": "execute_result",
          "data": {
            "text/plain": [
              "array([  0.,   0.,   0.,   0.,   0.,   0.,   0.,   0.,   0.,   0.,   0.,\n",
              "         0.,   0.,   0.,   0., 503.,   0.,   0.,   0.,   0., 497.,   0.,\n",
              "         0.,   0.,   0.,   0.,   0.,   0.,   0.,   0.,   0.,   0.,   0.,\n",
              "         0.,   0.,   0.,   0.,   0.])"
            ]
          },
          "metadata": {},
          "execution_count": 72
        }
      ]
    },
    {
      "cell_type": "code",
      "source": [
        "tokenizer.word_index['yes']"
      ],
      "metadata": {
        "colab": {
          "base_uri": "https://localhost:8080/"
        },
        "id": "Je0FkTtWFCUL",
        "outputId": "306d2b48-9a20-4225-f00a-4fbca04b0509"
      },
      "execution_count": 73,
      "outputs": [
        {
          "output_type": "execute_result",
          "data": {
            "text/plain": [
              "20"
            ]
          },
          "metadata": {},
          "execution_count": 73
        }
      ]
    },
    {
      "cell_type": "code",
      "source": [
        "tokenizer.word_index['no']"
      ],
      "metadata": {
        "colab": {
          "base_uri": "https://localhost:8080/"
        },
        "id": "IBhB_f-TFE2q",
        "outputId": "6b77fd00-09a9-4d19-d866-60fb30d18849"
      },
      "execution_count": 74,
      "outputs": [
        {
          "output_type": "execute_result",
          "data": {
            "text/plain": [
              "15"
            ]
          },
          "metadata": {},
          "execution_count": 74
        }
      ]
    },
    {
      "cell_type": "code",
      "source": [
        "from keras.models import Sequential, Model\n",
        "from keras.layers import Embedding\n",
        "from keras.layers import Input, Activation, Dense, Permute, Dropout\n",
        "from keras.layers import add, dot, concatenate\n",
        "from keras.layers import LSTM"
      ],
      "metadata": {
        "id": "m9NnOM4rFGF9"
      },
      "execution_count": 76,
      "outputs": []
    },
    {
      "cell_type": "code",
      "source": [
        "input_sequence = Input((max_story_len,))\n",
        "question = Input((max_question_len,))"
      ],
      "metadata": {
        "id": "QUJE8Xq6FHtw"
      },
      "execution_count": 77,
      "outputs": []
    },
    {
      "cell_type": "code",
      "source": [
        "\n",
        "input_encoder_m = Sequential()\n",
        "input_encoder_m.add(Embedding(input_dim=vocab_size,output_dim=64))\n",
        "input_encoder_m.add(Dropout(0.3))"
      ],
      "metadata": {
        "id": "q1Lva2VHFLiL"
      },
      "execution_count": 78,
      "outputs": []
    },
    {
      "cell_type": "code",
      "source": [
        "\n",
        "input_encoder_c = Sequential()\n",
        "input_encoder_c.add(Embedding(input_dim=vocab_size,output_dim=max_question_len))\n",
        "input_encoder_c.add(Dropout(0.3))\n"
      ],
      "metadata": {
        "id": "Ozu9eULHFNMF"
      },
      "execution_count": 79,
      "outputs": []
    },
    {
      "cell_type": "code",
      "source": [
        "\n",
        "question_encoder = Sequential()\n",
        "question_encoder.add(Embedding(input_dim=vocab_size,\n",
        "                               output_dim=64,\n",
        "                               input_length=max_question_len))\n",
        "question_encoder.add(Dropout(0.3))\n"
      ],
      "metadata": {
        "id": "AAH3Tqr3FOxS"
      },
      "execution_count": 80,
      "outputs": []
    },
    {
      "cell_type": "code",
      "source": [
        "\n",
        "input_encoded_m = input_encoder_m(input_sequence)\n",
        "input_encoded_c = input_encoder_c(input_sequence)\n",
        "question_encoded = question_encoder(question)"
      ],
      "metadata": {
        "id": "805bwGwrFQoH"
      },
      "execution_count": 81,
      "outputs": []
    },
    {
      "cell_type": "code",
      "source": [
        "\n",
        "match = dot([input_encoded_m, question_encoded], axes=(2, 2))\n",
        "match = Activation('softmax')(match)"
      ],
      "metadata": {
        "id": "YJyk_hvmFSFG"
      },
      "execution_count": 82,
      "outputs": []
    },
    {
      "cell_type": "code",
      "source": [
        "\n",
        "response = add([match, input_encoded_c])\n",
        "response = Permute((2, 1))(response)"
      ],
      "metadata": {
        "id": "1S49R9S9FTvB"
      },
      "execution_count": 83,
      "outputs": []
    },
    {
      "cell_type": "code",
      "source": [
        "\n",
        "answer = concatenate([response, question_encoded])"
      ],
      "metadata": {
        "id": "0I-L1AA1FWFA"
      },
      "execution_count": 84,
      "outputs": []
    },
    {
      "cell_type": "code",
      "source": [
        "answer"
      ],
      "metadata": {
        "colab": {
          "base_uri": "https://localhost:8080/"
        },
        "id": "bMVWZOLxFXiq",
        "outputId": "d46cac65-5c44-4a42-f797-4030bb0a28fd"
      },
      "execution_count": 85,
      "outputs": [
        {
          "output_type": "execute_result",
          "data": {
            "text/plain": [
              "<KerasTensor: shape=(None, 6, 220) dtype=float32 (created by layer 'concatenate')>"
            ]
          },
          "metadata": {},
          "execution_count": 85
        }
      ]
    },
    {
      "cell_type": "code",
      "source": [
        "\n",
        "answer = LSTM(32)(answer)"
      ],
      "metadata": {
        "id": "8ct7aG50FdW5"
      },
      "execution_count": 86,
      "outputs": []
    },
    {
      "cell_type": "code",
      "source": [
        "\n",
        "answer = Dropout(0.5)(answer)\n",
        "answer = Dense(vocab_size)(answer)"
      ],
      "metadata": {
        "id": "YMVfGHOOF9qv"
      },
      "execution_count": 87,
      "outputs": []
    },
    {
      "cell_type": "code",
      "source": [
        "answer = Activation('softmax')(answer)\n",
        "\n",
        "\n",
        "model = Model([input_sequence, question], answer)\n",
        "model.compile(optimizer='rmsprop', loss='categorical_crossentropy',\n",
        "              metrics=['accuracy'])"
      ],
      "metadata": {
        "id": "QAr-mpZOF_MY"
      },
      "execution_count": 88,
      "outputs": []
    },
    {
      "cell_type": "code",
      "source": [
        "model.summary()"
      ],
      "metadata": {
        "colab": {
          "base_uri": "https://localhost:8080/"
        },
        "id": "8v7lsVhkGA0Z",
        "outputId": "11ae103d-916a-4aeb-e159-e4f4898c9a72"
      },
      "execution_count": 89,
      "outputs": [
        {
          "output_type": "stream",
          "name": "stdout",
          "text": [
            "Model: \"model\"\n",
            "__________________________________________________________________________________________________\n",
            " Layer (type)                Output Shape                 Param #   Connected to                  \n",
            "==================================================================================================\n",
            " input_4 (InputLayer)        [(None, 156)]                0         []                            \n",
            "                                                                                                  \n",
            " input_5 (InputLayer)        [(None, 6)]                  0         []                            \n",
            "                                                                                                  \n",
            " sequential_2 (Sequential)   (None, None, 64)             2432      ['input_4[0][0]']             \n",
            "                                                                                                  \n",
            " sequential_4 (Sequential)   (None, 6, 64)                2432      ['input_5[0][0]']             \n",
            "                                                                                                  \n",
            " dot (Dot)                   (None, 156, 6)               0         ['sequential_2[0][0]',        \n",
            "                                                                     'sequential_4[0][0]']        \n",
            "                                                                                                  \n",
            " activation (Activation)     (None, 156, 6)               0         ['dot[0][0]']                 \n",
            "                                                                                                  \n",
            " sequential_3 (Sequential)   (None, None, 6)              228       ['input_4[0][0]']             \n",
            "                                                                                                  \n",
            " add (Add)                   (None, 156, 6)               0         ['activation[0][0]',          \n",
            "                                                                     'sequential_3[0][0]']        \n",
            "                                                                                                  \n",
            " permute (Permute)           (None, 6, 156)               0         ['add[0][0]']                 \n",
            "                                                                                                  \n",
            " concatenate (Concatenate)   (None, 6, 220)               0         ['permute[0][0]',             \n",
            "                                                                     'sequential_4[0][0]']        \n",
            "                                                                                                  \n",
            " lstm (LSTM)                 (None, 32)                   32384     ['concatenate[0][0]']         \n",
            "                                                                                                  \n",
            " dropout_5 (Dropout)         (None, 32)                   0         ['lstm[0][0]']                \n",
            "                                                                                                  \n",
            " dense (Dense)               (None, 38)                   1254      ['dropout_5[0][0]']           \n",
            "                                                                                                  \n",
            " activation_1 (Activation)   (None, 38)                   0         ['dense[0][0]']               \n",
            "                                                                                                  \n",
            "==================================================================================================\n",
            "Total params: 38730 (151.29 KB)\n",
            "Trainable params: 38730 (151.29 KB)\n",
            "Non-trainable params: 0 (0.00 Byte)\n",
            "__________________________________________________________________________________________________\n"
          ]
        }
      ]
    },
    {
      "cell_type": "code",
      "source": [
        "\n",
        "history = model.fit([inputs_train, queries_train], answers_train,batch_size=32,epochs=120,validation_data=([inputs_test, queries_test], answers_test))"
      ],
      "metadata": {
        "colab": {
          "base_uri": "https://localhost:8080/"
        },
        "id": "Nwedm6AwGCMH",
        "outputId": "2da8bc1c-1ac7-43f1-d695-543635250f44"
      },
      "execution_count": 90,
      "outputs": [
        {
          "output_type": "stream",
          "name": "stdout",
          "text": [
            "Epoch 1/120\n",
            "313/313 [==============================] - 11s 24ms/step - loss: 0.9020 - accuracy: 0.4920 - val_loss: 0.6967 - val_accuracy: 0.5030\n",
            "Epoch 2/120\n",
            "313/313 [==============================] - 6s 18ms/step - loss: 0.7112 - accuracy: 0.4903 - val_loss: 0.6968 - val_accuracy: 0.4970\n",
            "Epoch 3/120\n",
            "313/313 [==============================] - 7s 23ms/step - loss: 0.6996 - accuracy: 0.4962 - val_loss: 0.6949 - val_accuracy: 0.5030\n",
            "Epoch 4/120\n",
            "313/313 [==============================] - 6s 18ms/step - loss: 0.6969 - accuracy: 0.4974 - val_loss: 0.6935 - val_accuracy: 0.5030\n",
            "Epoch 5/120\n",
            "313/313 [==============================] - 7s 22ms/step - loss: 0.6963 - accuracy: 0.4914 - val_loss: 0.6942 - val_accuracy: 0.4970\n",
            "Epoch 6/120\n",
            "313/313 [==============================] - 6s 18ms/step - loss: 0.6959 - accuracy: 0.4919 - val_loss: 0.6932 - val_accuracy: 0.5030\n",
            "Epoch 7/120\n",
            "313/313 [==============================] - 7s 22ms/step - loss: 0.6950 - accuracy: 0.5091 - val_loss: 0.6932 - val_accuracy: 0.4970\n",
            "Epoch 8/120\n",
            "313/313 [==============================] - 6s 20ms/step - loss: 0.6954 - accuracy: 0.5007 - val_loss: 0.6938 - val_accuracy: 0.4970\n",
            "Epoch 9/120\n",
            "313/313 [==============================] - 7s 23ms/step - loss: 0.6957 - accuracy: 0.4931 - val_loss: 0.6935 - val_accuracy: 0.4970\n",
            "Epoch 10/120\n",
            "313/313 [==============================] - 6s 19ms/step - loss: 0.6951 - accuracy: 0.5006 - val_loss: 0.6954 - val_accuracy: 0.4970\n",
            "Epoch 11/120\n",
            "313/313 [==============================] - 7s 21ms/step - loss: 0.6947 - accuracy: 0.5016 - val_loss: 0.6944 - val_accuracy: 0.5030\n",
            "Epoch 12/120\n",
            "313/313 [==============================] - 6s 18ms/step - loss: 0.6956 - accuracy: 0.4963 - val_loss: 0.6951 - val_accuracy: 0.4970\n",
            "Epoch 13/120\n",
            "313/313 [==============================] - 7s 21ms/step - loss: 0.6957 - accuracy: 0.4977 - val_loss: 0.6934 - val_accuracy: 0.4970\n",
            "Epoch 14/120\n",
            "313/313 [==============================] - 6s 20ms/step - loss: 0.6948 - accuracy: 0.4997 - val_loss: 0.6957 - val_accuracy: 0.4970\n",
            "Epoch 15/120\n",
            "313/313 [==============================] - 6s 18ms/step - loss: 0.6950 - accuracy: 0.5011 - val_loss: 0.6953 - val_accuracy: 0.4970\n",
            "Epoch 16/120\n",
            "313/313 [==============================] - 7s 21ms/step - loss: 0.6950 - accuracy: 0.5003 - val_loss: 0.6957 - val_accuracy: 0.5030\n",
            "Epoch 17/120\n",
            "313/313 [==============================] - 6s 19ms/step - loss: 0.6951 - accuracy: 0.4977 - val_loss: 0.6932 - val_accuracy: 0.5030\n",
            "Epoch 18/120\n",
            "313/313 [==============================] - 7s 22ms/step - loss: 0.6943 - accuracy: 0.5026 - val_loss: 0.6961 - val_accuracy: 0.4970\n",
            "Epoch 19/120\n",
            "313/313 [==============================] - 6s 18ms/step - loss: 0.6956 - accuracy: 0.4945 - val_loss: 0.6961 - val_accuracy: 0.4970\n",
            "Epoch 20/120\n",
            "313/313 [==============================] - 6s 20ms/step - loss: 0.6953 - accuracy: 0.4877 - val_loss: 0.6932 - val_accuracy: 0.5030\n",
            "Epoch 21/120\n",
            "313/313 [==============================] - 5s 16ms/step - loss: 0.6944 - accuracy: 0.5080 - val_loss: 0.6934 - val_accuracy: 0.4970\n",
            "Epoch 22/120\n",
            "313/313 [==============================] - 6s 20ms/step - loss: 0.6947 - accuracy: 0.5031 - val_loss: 0.6947 - val_accuracy: 0.5030\n",
            "Epoch 23/120\n",
            "313/313 [==============================] - 5s 17ms/step - loss: 0.6953 - accuracy: 0.4995 - val_loss: 0.6931 - val_accuracy: 0.5030\n",
            "Epoch 24/120\n",
            "313/313 [==============================] - 6s 20ms/step - loss: 0.6950 - accuracy: 0.5004 - val_loss: 0.6932 - val_accuracy: 0.4970\n",
            "Epoch 25/120\n",
            "313/313 [==============================] - 6s 18ms/step - loss: 0.6953 - accuracy: 0.4968 - val_loss: 0.6942 - val_accuracy: 0.5030\n",
            "Epoch 26/120\n",
            "313/313 [==============================] - 6s 19ms/step - loss: 0.6954 - accuracy: 0.4921 - val_loss: 0.6968 - val_accuracy: 0.5030\n",
            "Epoch 27/120\n",
            "313/313 [==============================] - 6s 19ms/step - loss: 0.6954 - accuracy: 0.4963 - val_loss: 0.6934 - val_accuracy: 0.4970\n",
            "Epoch 28/120\n",
            "313/313 [==============================] - 5s 17ms/step - loss: 0.6949 - accuracy: 0.4988 - val_loss: 0.6932 - val_accuracy: 0.4910\n",
            "Epoch 29/120\n",
            "313/313 [==============================] - 7s 21ms/step - loss: 0.6947 - accuracy: 0.5040 - val_loss: 0.6932 - val_accuracy: 0.5040\n",
            "Epoch 30/120\n",
            "313/313 [==============================] - 6s 18ms/step - loss: 0.6952 - accuracy: 0.4960 - val_loss: 0.6942 - val_accuracy: 0.4970\n",
            "Epoch 31/120\n",
            "313/313 [==============================] - 7s 21ms/step - loss: 0.6937 - accuracy: 0.5100 - val_loss: 0.6934 - val_accuracy: 0.5030\n",
            "Epoch 32/120\n",
            "313/313 [==============================] - 6s 19ms/step - loss: 0.6956 - accuracy: 0.4945 - val_loss: 0.6932 - val_accuracy: 0.5030\n",
            "Epoch 33/120\n",
            "313/313 [==============================] - 7s 22ms/step - loss: 0.6949 - accuracy: 0.4933 - val_loss: 0.6933 - val_accuracy: 0.4970\n",
            "Epoch 34/120\n",
            "313/313 [==============================] - 6s 19ms/step - loss: 0.6951 - accuracy: 0.4961 - val_loss: 0.6943 - val_accuracy: 0.5030\n",
            "Epoch 35/120\n",
            "313/313 [==============================] - 7s 22ms/step - loss: 0.6953 - accuracy: 0.4966 - val_loss: 0.6932 - val_accuracy: 0.5030\n",
            "Epoch 36/120\n",
            "313/313 [==============================] - 6s 18ms/step - loss: 0.6950 - accuracy: 0.5075 - val_loss: 0.6936 - val_accuracy: 0.5030\n",
            "Epoch 37/120\n",
            "313/313 [==============================] - 6s 21ms/step - loss: 0.6948 - accuracy: 0.4950 - val_loss: 0.6952 - val_accuracy: 0.4970\n",
            "Epoch 38/120\n",
            "313/313 [==============================] - 5s 17ms/step - loss: 0.6952 - accuracy: 0.4912 - val_loss: 0.6932 - val_accuracy: 0.5030\n",
            "Epoch 39/120\n",
            "313/313 [==============================] - 6s 20ms/step - loss: 0.6949 - accuracy: 0.5005 - val_loss: 0.6941 - val_accuracy: 0.4970\n",
            "Epoch 40/120\n",
            "313/313 [==============================] - 6s 20ms/step - loss: 0.6949 - accuracy: 0.5015 - val_loss: 0.6932 - val_accuracy: 0.5060\n",
            "Epoch 41/120\n",
            "313/313 [==============================] - 7s 21ms/step - loss: 0.6950 - accuracy: 0.4987 - val_loss: 0.6938 - val_accuracy: 0.5030\n",
            "Epoch 42/120\n",
            "313/313 [==============================] - 6s 18ms/step - loss: 0.6942 - accuracy: 0.5043 - val_loss: 0.6934 - val_accuracy: 0.4940\n",
            "Epoch 43/120\n",
            "313/313 [==============================] - 7s 22ms/step - loss: 0.6945 - accuracy: 0.5068 - val_loss: 0.6941 - val_accuracy: 0.5030\n",
            "Epoch 44/120\n",
            "313/313 [==============================] - 6s 18ms/step - loss: 0.6942 - accuracy: 0.5014 - val_loss: 0.6939 - val_accuracy: 0.4970\n",
            "Epoch 45/120\n",
            "313/313 [==============================] - 6s 20ms/step - loss: 0.6935 - accuracy: 0.5172 - val_loss: 0.6941 - val_accuracy: 0.4870\n",
            "Epoch 46/120\n",
            "313/313 [==============================] - 6s 20ms/step - loss: 0.6937 - accuracy: 0.5110 - val_loss: 0.6969 - val_accuracy: 0.4930\n",
            "Epoch 47/120\n",
            "313/313 [==============================] - 6s 20ms/step - loss: 0.6936 - accuracy: 0.5198 - val_loss: 0.6974 - val_accuracy: 0.4930\n",
            "Epoch 48/120\n",
            "313/313 [==============================] - 6s 19ms/step - loss: 0.6924 - accuracy: 0.5254 - val_loss: 0.6977 - val_accuracy: 0.4690\n",
            "Epoch 49/120\n",
            "313/313 [==============================] - 6s 19ms/step - loss: 0.6931 - accuracy: 0.5191 - val_loss: 0.6964 - val_accuracy: 0.4950\n",
            "Epoch 50/120\n",
            "313/313 [==============================] - 6s 20ms/step - loss: 0.6924 - accuracy: 0.5222 - val_loss: 0.6969 - val_accuracy: 0.4740\n",
            "Epoch 51/120\n",
            "313/313 [==============================] - 6s 19ms/step - loss: 0.6929 - accuracy: 0.5265 - val_loss: 0.6966 - val_accuracy: 0.5090\n",
            "Epoch 52/120\n",
            "313/313 [==============================] - 6s 20ms/step - loss: 0.6932 - accuracy: 0.5178 - val_loss: 0.6973 - val_accuracy: 0.5000\n",
            "Epoch 53/120\n",
            "313/313 [==============================] - 6s 18ms/step - loss: 0.6906 - accuracy: 0.5351 - val_loss: 0.6975 - val_accuracy: 0.4940\n",
            "Epoch 54/120\n",
            "313/313 [==============================] - 7s 22ms/step - loss: 0.6889 - accuracy: 0.5349 - val_loss: 0.6967 - val_accuracy: 0.5030\n",
            "Epoch 55/120\n",
            "313/313 [==============================] - 6s 18ms/step - loss: 0.6855 - accuracy: 0.5422 - val_loss: 0.7049 - val_accuracy: 0.5130\n",
            "Epoch 56/120\n",
            "313/313 [==============================] - 6s 21ms/step - loss: 0.6792 - accuracy: 0.5621 - val_loss: 0.6825 - val_accuracy: 0.5470\n",
            "Epoch 57/120\n",
            "313/313 [==============================] - 6s 21ms/step - loss: 0.6618 - accuracy: 0.5927 - val_loss: 0.6582 - val_accuracy: 0.6110\n",
            "Epoch 58/120\n",
            "313/313 [==============================] - 6s 20ms/step - loss: 0.6435 - accuracy: 0.6290 - val_loss: 0.6430 - val_accuracy: 0.6420\n",
            "Epoch 59/120\n",
            "313/313 [==============================] - 6s 18ms/step - loss: 0.6281 - accuracy: 0.6524 - val_loss: 0.6213 - val_accuracy: 0.6580\n",
            "Epoch 60/120\n",
            "313/313 [==============================] - 6s 20ms/step - loss: 0.6145 - accuracy: 0.6662 - val_loss: 0.6022 - val_accuracy: 0.6820\n",
            "Epoch 61/120\n",
            "313/313 [==============================] - 6s 18ms/step - loss: 0.5956 - accuracy: 0.6884 - val_loss: 0.5810 - val_accuracy: 0.6990\n",
            "Epoch 62/120\n",
            "313/313 [==============================] - 7s 21ms/step - loss: 0.5804 - accuracy: 0.7051 - val_loss: 0.5606 - val_accuracy: 0.7140\n",
            "Epoch 63/120\n",
            "313/313 [==============================] - 5s 17ms/step - loss: 0.5641 - accuracy: 0.7190 - val_loss: 0.5354 - val_accuracy: 0.7360\n",
            "Epoch 64/120\n",
            "313/313 [==============================] - 6s 20ms/step - loss: 0.5448 - accuracy: 0.7365 - val_loss: 0.5150 - val_accuracy: 0.7590\n",
            "Epoch 65/120\n",
            "313/313 [==============================] - 6s 18ms/step - loss: 0.5257 - accuracy: 0.7525 - val_loss: 0.5036 - val_accuracy: 0.7650\n",
            "Epoch 66/120\n",
            "313/313 [==============================] - 6s 20ms/step - loss: 0.5193 - accuracy: 0.7562 - val_loss: 0.4746 - val_accuracy: 0.7840\n",
            "Epoch 67/120\n",
            "313/313 [==============================] - 6s 18ms/step - loss: 0.5004 - accuracy: 0.7749 - val_loss: 0.4525 - val_accuracy: 0.7970\n",
            "Epoch 68/120\n",
            "313/313 [==============================] - 6s 18ms/step - loss: 0.4726 - accuracy: 0.7893 - val_loss: 0.4656 - val_accuracy: 0.8120\n",
            "Epoch 69/120\n",
            "313/313 [==============================] - 7s 21ms/step - loss: 0.4685 - accuracy: 0.7896 - val_loss: 0.4345 - val_accuracy: 0.8120\n",
            "Epoch 70/120\n",
            "313/313 [==============================] - 5s 17ms/step - loss: 0.4534 - accuracy: 0.8051 - val_loss: 0.4415 - val_accuracy: 0.8200\n",
            "Epoch 71/120\n",
            "313/313 [==============================] - 6s 21ms/step - loss: 0.4447 - accuracy: 0.8101 - val_loss: 0.4231 - val_accuracy: 0.8250\n",
            "Epoch 72/120\n",
            "313/313 [==============================] - 5s 17ms/step - loss: 0.4391 - accuracy: 0.8152 - val_loss: 0.4165 - val_accuracy: 0.8180\n",
            "Epoch 73/120\n",
            "313/313 [==============================] - 7s 21ms/step - loss: 0.4189 - accuracy: 0.8212 - val_loss: 0.4315 - val_accuracy: 0.8170\n",
            "Epoch 74/120\n",
            "313/313 [==============================] - 5s 17ms/step - loss: 0.4147 - accuracy: 0.8264 - val_loss: 0.4175 - val_accuracy: 0.8300\n",
            "Epoch 75/120\n",
            "313/313 [==============================] - 6s 19ms/step - loss: 0.4179 - accuracy: 0.8269 - val_loss: 0.4134 - val_accuracy: 0.8250\n",
            "Epoch 76/120\n",
            "313/313 [==============================] - 6s 18ms/step - loss: 0.4068 - accuracy: 0.8287 - val_loss: 0.4021 - val_accuracy: 0.8270\n",
            "Epoch 77/120\n",
            "313/313 [==============================] - 5s 17ms/step - loss: 0.3972 - accuracy: 0.8350 - val_loss: 0.4127 - val_accuracy: 0.8260\n",
            "Epoch 78/120\n",
            "313/313 [==============================] - 6s 20ms/step - loss: 0.3946 - accuracy: 0.8411 - val_loss: 0.4141 - val_accuracy: 0.8270\n",
            "Epoch 79/120\n",
            "313/313 [==============================] - 5s 17ms/step - loss: 0.3929 - accuracy: 0.8361 - val_loss: 0.3945 - val_accuracy: 0.8330\n",
            "Epoch 80/120\n",
            "313/313 [==============================] - 6s 19ms/step - loss: 0.3822 - accuracy: 0.8404 - val_loss: 0.4228 - val_accuracy: 0.8300\n",
            "Epoch 81/120\n",
            "313/313 [==============================] - 5s 16ms/step - loss: 0.3798 - accuracy: 0.8423 - val_loss: 0.4088 - val_accuracy: 0.8210\n",
            "Epoch 82/120\n",
            "313/313 [==============================] - 6s 20ms/step - loss: 0.3792 - accuracy: 0.8410 - val_loss: 0.3963 - val_accuracy: 0.8280\n",
            "Epoch 83/120\n",
            "313/313 [==============================] - 5s 16ms/step - loss: 0.3769 - accuracy: 0.8472 - val_loss: 0.3924 - val_accuracy: 0.8290\n",
            "Epoch 84/120\n",
            "313/313 [==============================] - 6s 18ms/step - loss: 0.3727 - accuracy: 0.8484 - val_loss: 0.3919 - val_accuracy: 0.8380\n",
            "Epoch 85/120\n",
            "313/313 [==============================] - 6s 19ms/step - loss: 0.3666 - accuracy: 0.8500 - val_loss: 0.4163 - val_accuracy: 0.8350\n",
            "Epoch 86/120\n",
            "313/313 [==============================] - 5s 17ms/step - loss: 0.3681 - accuracy: 0.8497 - val_loss: 0.3892 - val_accuracy: 0.8380\n",
            "Epoch 87/120\n",
            "313/313 [==============================] - 6s 21ms/step - loss: 0.3591 - accuracy: 0.8487 - val_loss: 0.4074 - val_accuracy: 0.8380\n",
            "Epoch 88/120\n",
            "313/313 [==============================] - 5s 17ms/step - loss: 0.3575 - accuracy: 0.8522 - val_loss: 0.3900 - val_accuracy: 0.8320\n",
            "Epoch 89/120\n",
            "313/313 [==============================] - 6s 20ms/step - loss: 0.3543 - accuracy: 0.8548 - val_loss: 0.3891 - val_accuracy: 0.8360\n",
            "Epoch 90/120\n",
            "313/313 [==============================] - 5s 16ms/step - loss: 0.3507 - accuracy: 0.8575 - val_loss: 0.3935 - val_accuracy: 0.8340\n",
            "Epoch 91/120\n",
            "313/313 [==============================] - 6s 19ms/step - loss: 0.3415 - accuracy: 0.8585 - val_loss: 0.3983 - val_accuracy: 0.8300\n",
            "Epoch 92/120\n",
            "313/313 [==============================] - 5s 17ms/step - loss: 0.3456 - accuracy: 0.8574 - val_loss: 0.3980 - val_accuracy: 0.8380\n",
            "Epoch 93/120\n",
            "313/313 [==============================] - 6s 18ms/step - loss: 0.3410 - accuracy: 0.8609 - val_loss: 0.4123 - val_accuracy: 0.8280\n",
            "Epoch 94/120\n",
            "313/313 [==============================] - 6s 19ms/step - loss: 0.3317 - accuracy: 0.8642 - val_loss: 0.4209 - val_accuracy: 0.8240\n",
            "Epoch 95/120\n",
            "313/313 [==============================] - 5s 16ms/step - loss: 0.3375 - accuracy: 0.8638 - val_loss: 0.3953 - val_accuracy: 0.8130\n",
            "Epoch 96/120\n",
            "313/313 [==============================] - 6s 19ms/step - loss: 0.3293 - accuracy: 0.8638 - val_loss: 0.4247 - val_accuracy: 0.8200\n",
            "Epoch 97/120\n",
            "313/313 [==============================] - 5s 17ms/step - loss: 0.3288 - accuracy: 0.8634 - val_loss: 0.4075 - val_accuracy: 0.8290\n",
            "Epoch 98/120\n",
            "313/313 [==============================] - 6s 20ms/step - loss: 0.3287 - accuracy: 0.8667 - val_loss: 0.4028 - val_accuracy: 0.8240\n",
            "Epoch 99/120\n",
            "313/313 [==============================] - 5s 17ms/step - loss: 0.3284 - accuracy: 0.8667 - val_loss: 0.4184 - val_accuracy: 0.8300\n",
            "Epoch 100/120\n",
            "313/313 [==============================] - 6s 20ms/step - loss: 0.3286 - accuracy: 0.8675 - val_loss: 0.3950 - val_accuracy: 0.8200\n",
            "Epoch 101/120\n",
            "313/313 [==============================] - 5s 16ms/step - loss: 0.3210 - accuracy: 0.8713 - val_loss: 0.4068 - val_accuracy: 0.8100\n",
            "Epoch 102/120\n",
            "313/313 [==============================] - 5s 16ms/step - loss: 0.3175 - accuracy: 0.8744 - val_loss: 0.4121 - val_accuracy: 0.8330\n",
            "Epoch 103/120\n",
            "313/313 [==============================] - 6s 19ms/step - loss: 0.3167 - accuracy: 0.8711 - val_loss: 0.4059 - val_accuracy: 0.8160\n",
            "Epoch 104/120\n",
            "313/313 [==============================] - 6s 20ms/step - loss: 0.3120 - accuracy: 0.8714 - val_loss: 0.4106 - val_accuracy: 0.8200\n",
            "Epoch 105/120\n",
            "313/313 [==============================] - 6s 20ms/step - loss: 0.3132 - accuracy: 0.8739 - val_loss: 0.4081 - val_accuracy: 0.8160\n",
            "Epoch 106/120\n",
            "313/313 [==============================] - 5s 16ms/step - loss: 0.3055 - accuracy: 0.8742 - val_loss: 0.4080 - val_accuracy: 0.8240\n",
            "Epoch 107/120\n",
            "313/313 [==============================] - 6s 19ms/step - loss: 0.3109 - accuracy: 0.8665 - val_loss: 0.4148 - val_accuracy: 0.8210\n",
            "Epoch 108/120\n",
            "313/313 [==============================] - 6s 18ms/step - loss: 0.3009 - accuracy: 0.8729 - val_loss: 0.4053 - val_accuracy: 0.8230\n",
            "Epoch 109/120\n",
            "313/313 [==============================] - 7s 21ms/step - loss: 0.3046 - accuracy: 0.8800 - val_loss: 0.4276 - val_accuracy: 0.8260\n",
            "Epoch 110/120\n",
            "313/313 [==============================] - 5s 16ms/step - loss: 0.3050 - accuracy: 0.8771 - val_loss: 0.4535 - val_accuracy: 0.8210\n",
            "Epoch 111/120\n",
            "313/313 [==============================] - 5s 16ms/step - loss: 0.3037 - accuracy: 0.8776 - val_loss: 0.4194 - val_accuracy: 0.8190\n",
            "Epoch 112/120\n",
            "313/313 [==============================] - 6s 19ms/step - loss: 0.2978 - accuracy: 0.8788 - val_loss: 0.4362 - val_accuracy: 0.8210\n",
            "Epoch 113/120\n",
            "313/313 [==============================] - 5s 17ms/step - loss: 0.2957 - accuracy: 0.8752 - val_loss: 0.4241 - val_accuracy: 0.8170\n",
            "Epoch 114/120\n",
            "313/313 [==============================] - 6s 20ms/step - loss: 0.3037 - accuracy: 0.8748 - val_loss: 0.4211 - val_accuracy: 0.8000\n",
            "Epoch 115/120\n",
            "313/313 [==============================] - 6s 18ms/step - loss: 0.2882 - accuracy: 0.8804 - val_loss: 0.4322 - val_accuracy: 0.8110\n",
            "Epoch 116/120\n",
            "313/313 [==============================] - 6s 20ms/step - loss: 0.2786 - accuracy: 0.8842 - val_loss: 0.4380 - val_accuracy: 0.8200\n",
            "Epoch 117/120\n",
            "313/313 [==============================] - 5s 17ms/step - loss: 0.2886 - accuracy: 0.8861 - val_loss: 0.4436 - val_accuracy: 0.8190\n",
            "Epoch 118/120\n",
            "313/313 [==============================] - 6s 20ms/step - loss: 0.2885 - accuracy: 0.8804 - val_loss: 0.4553 - val_accuracy: 0.8060\n",
            "Epoch 119/120\n",
            "313/313 [==============================] - 5s 16ms/step - loss: 0.2877 - accuracy: 0.8822 - val_loss: 0.4356 - val_accuracy: 0.8190\n",
            "Epoch 120/120\n",
            "313/313 [==============================] - 6s 18ms/step - loss: 0.2837 - accuracy: 0.8837 - val_loss: 0.4348 - val_accuracy: 0.8170\n"
          ]
        }
      ]
    },
    {
      "cell_type": "code",
      "source": [
        "filename = 'chatbot.h5'\n",
        "model.save(filename)"
      ],
      "metadata": {
        "colab": {
          "base_uri": "https://localhost:8080/"
        },
        "id": "-2x27QmvHDho",
        "outputId": "60538cdc-0bbd-4118-bd80-c9be0de52fa1"
      },
      "execution_count": 91,
      "outputs": [
        {
          "output_type": "stream",
          "name": "stderr",
          "text": [
            "/usr/local/lib/python3.10/dist-packages/keras/src/engine/training.py:3103: UserWarning: You are saving your model as an HDF5 file via `model.save()`. This file format is considered legacy. We recommend using instead the native Keras format, e.g. `model.save('my_model.keras')`.\n",
            "  saving_api.save_model(\n"
          ]
        }
      ]
    },
    {
      "cell_type": "code",
      "source": [
        "import matplotlib.pyplot as plt\n",
        "%matplotlib inline\n",
        "print(history.history.keys())\n",
        "\n",
        "plt.plot(history.history['accuracy'])\n",
        "plt.plot(history.history['val_accuracy'])\n",
        "plt.title('model accuracy')\n",
        "plt.ylabel('accuracy')\n",
        "plt.xlabel('epoch')\n",
        "plt.legend(['train', 'test'], loc='upper left')\n",
        "plt.show()"
      ],
      "metadata": {
        "colab": {
          "base_uri": "https://localhost:8080/",
          "height": 490
        },
        "id": "7hNFwBT-KBfh",
        "outputId": "b72d1e12-e2a7-498a-9bb5-306f07208d5f"
      },
      "execution_count": 93,
      "outputs": [
        {
          "output_type": "stream",
          "name": "stdout",
          "text": [
            "dict_keys(['loss', 'accuracy', 'val_loss', 'val_accuracy'])\n"
          ]
        },
        {
          "output_type": "display_data",
          "data": {
            "text/plain": [
              "<Figure size 640x480 with 1 Axes>"
            ],
            "image/png": "[encoded data removed]"
          },
          "metadata": {}
        }
      ]
    },
    {
      "cell_type": "code",
      "source": [
        "model.load_weights(filename)\n",
        "pred_results = model.predict(([inputs_test, queries_test]))"
      ],
      "metadata": {
        "colab": {
          "base_uri": "https://localhost:8080/"
        },
        "id": "qcnfKMezKDG-",
        "outputId": "a5c62d54-a80a-4eb8-8df7-499892cc61f2"
      },
      "execution_count": 94,
      "outputs": [
        {
          "output_type": "stream",
          "name": "stdout",
          "text": [
            "32/32 [==============================] - 1s 9ms/step\n"
          ]
        }
      ]
    },
    {
      "cell_type": "code",
      "source": [
        "test_data[0][0]"
      ],
      "metadata": {
        "colab": {
          "base_uri": "https://localhost:8080/"
        },
        "id": "2j3LmIJyKMq8",
        "outputId": "e677832c-f660-4acf-c20f-12c81ffc5e17"
      },
      "execution_count": 95,
      "outputs": [
        {
          "output_type": "execute_result",
          "data": {
            "text/plain": [
              "['Mary',\n",
              " 'got',\n",
              " 'the',\n",
              " 'milk',\n",
              " 'there',\n",
              " '.',\n",
              " 'John',\n",
              " 'moved',\n",
              " 'to',\n",
              " 'the',\n",
              " 'bedroom',\n",
              " '.']"
            ]
          },
          "metadata": {},
          "execution_count": 95
        }
      ]
    },
    {
      "cell_type": "code",
      "source": [
        "story =' '.join(word for word in test_data[0][0])\n",
        "print(story)"
      ],
      "metadata": {
        "colab": {
          "base_uri": "https://localhost:8080/"
        },
        "id": "0atrqeFMKONi",
        "outputId": "4e8d9146-923c-4682-f7e8-2994693c3f60"
      },
      "execution_count": 96,
      "outputs": [
        {
          "output_type": "stream",
          "name": "stdout",
          "text": [
            "Mary got the milk there . John moved to the bedroom .\n"
          ]
        }
      ]
    },
    {
      "cell_type": "code",
      "source": [
        "query = ' '.join(word for word in test_data[0][1])\n",
        "print(query)"
      ],
      "metadata": {
        "colab": {
          "base_uri": "https://localhost:8080/"
        },
        "id": "U87Ed41nKQAv",
        "outputId": "4e15f03e-ff4e-4cc4-b3fb-7fa04352572b"
      },
      "execution_count": 97,
      "outputs": [
        {
          "output_type": "stream",
          "name": "stdout",
          "text": [
            "Is John in the kitchen ?\n"
          ]
        }
      ]
    },
    {
      "cell_type": "code",
      "source": [
        "print(\"True Test Answer from Data is:\",test_data[0][2])"
      ],
      "metadata": {
        "colab": {
          "base_uri": "https://localhost:8080/"
        },
        "id": "7XMroFY3KRWp",
        "outputId": "88e91e6d-5e06-481a-b349-d1e6d001d56a"
      },
      "execution_count": 98,
      "outputs": [
        {
          "output_type": "stream",
          "name": "stdout",
          "text": [
            "True Test Answer from Data is: no\n"
          ]
        }
      ]
    },
    {
      "cell_type": "code",
      "source": [
        "\n",
        "val_max = np.argmax(pred_results[0])\n",
        "\n",
        "for key, val in tokenizer.word_index.items():\n",
        "    if val == val_max:\n",
        "        k = key\n",
        "\n",
        "print(\"Predicted answer is: \", k)\n",
        "print(\"Probability of certainty was: \", pred_results[0][val_max])"
      ],
      "metadata": {
        "colab": {
          "base_uri": "https://localhost:8080/"
        },
        "id": "HPc12X3TKS4V",
        "outputId": "40d00f26-a5ec-433e-f99d-9940536b58db"
      },
      "execution_count": 99,
      "outputs": [
        {
          "output_type": "stream",
          "name": "stdout",
          "text": [
            "Predicted answer is:  no\n",
            "Probability of certainty was:  0.9012722\n"
          ]
        }
      ]
    },
    {
      "cell_type": "markdown",
      "source": [],
      "metadata": {
        "id": "9Zgg_B1RLXJ6"
      }
    },
    {
      "cell_type": "code",
      "source": [
        "vocab"
      ],
      "metadata": {
        "colab": {
          "base_uri": "https://localhost:8080/"
        },
        "id": "Yy_-DHZmLYcX",
        "outputId": "243be46b-8252-476b-cac5-e16cfbf743aa"
      },
      "execution_count": 142,
      "outputs": [
        {
          "output_type": "execute_result",
          "data": {
            "text/plain": [
              "{'.',\n",
              " '?',\n",
              " 'Daniel',\n",
              " 'Is',\n",
              " 'John',\n",
              " 'Mary',\n",
              " 'Sandra',\n",
              " 'apple',\n",
              " 'back',\n",
              " 'bathroom',\n",
              " 'bedroom',\n",
              " 'discarded',\n",
              " 'down',\n",
              " 'dropped',\n",
              " 'football',\n",
              " 'garden',\n",
              " 'got',\n",
              " 'grabbed',\n",
              " 'hallway',\n",
              " 'in',\n",
              " 'journeyed',\n",
              " 'kitchen',\n",
              " 'left',\n",
              " 'milk',\n",
              " 'moved',\n",
              " 'no',\n",
              " 'office',\n",
              " 'picked',\n",
              " 'put',\n",
              " 'the',\n",
              " 'there',\n",
              " 'to',\n",
              " 'took',\n",
              " 'travelled',\n",
              " 'up',\n",
              " 'went',\n",
              " 'yes'}"
            ]
          },
          "metadata": {},
          "execution_count": 142
        }
      ]
    },
    {
      "cell_type": "code",
      "source": [
        "\n",
        "my_story = \"John left the kitchen . Sandra dropped the football in the garden .\"\n",
        "my_story.split()"
      ],
      "metadata": {
        "colab": {
          "base_uri": "https://localhost:8080/"
        },
        "id": "BkDRAhUQKUvw",
        "outputId": "66301255-81b7-4a47-c8bc-2562d7008cfe"
      },
      "execution_count": 161,
      "outputs": [
        {
          "output_type": "execute_result",
          "data": {
            "text/plain": [
              "['John',\n",
              " 'left',\n",
              " 'the',\n",
              " 'kitchen',\n",
              " '.',\n",
              " 'Sandra',\n",
              " 'dropped',\n",
              " 'the',\n",
              " 'football',\n",
              " 'in',\n",
              " 'the',\n",
              " 'garden',\n",
              " '.']"
            ]
          },
          "metadata": {},
          "execution_count": 161
        }
      ]
    },
    {
      "cell_type": "code",
      "source": [
        "my_question = \"Is the football in the garden ?\""
      ],
      "metadata": {
        "id": "5-OyVac_KXiu"
      },
      "execution_count": 162,
      "outputs": []
    },
    {
      "cell_type": "code",
      "source": [
        "my_question.split()"
      ],
      "metadata": {
        "colab": {
          "base_uri": "https://localhost:8080/"
        },
        "id": "Y_cQLMtfKZZb",
        "outputId": "dbfc5eea-c190-4257-cd59-c2c2233a47b0"
      },
      "execution_count": 163,
      "outputs": [
        {
          "output_type": "execute_result",
          "data": {
            "text/plain": [
              "['Is', 'the', 'football', 'in', 'the', 'garden', '?']"
            ]
          },
          "metadata": {},
          "execution_count": 163
        }
      ]
    },
    {
      "cell_type": "code",
      "source": [
        "mydata = [(my_story.split(),my_question.split(),'yes')]"
      ],
      "metadata": {
        "id": "smH33YKhKbBS"
      },
      "execution_count": 164,
      "outputs": []
    },
    {
      "cell_type": "code",
      "source": [
        "my_story,my_ques,my_ans = vectorize_stories(mydata)"
      ],
      "metadata": {
        "id": "3eSkGuh7Kcvt"
      },
      "execution_count": 165,
      "outputs": []
    },
    {
      "cell_type": "code",
      "source": [
        "pred_results = model.predict(([ my_story, my_ques]))"
      ],
      "metadata": {
        "colab": {
          "base_uri": "https://localhost:8080/"
        },
        "id": "R4v8gU1vKd8G",
        "outputId": "d6eba08b-19f4-4f6f-8b24-f591bb5de3ac"
      },
      "execution_count": 166,
      "outputs": [
        {
          "output_type": "stream",
          "name": "stdout",
          "text": [
            "1/1 [==============================] - 0s 26ms/step\n"
          ]
        }
      ]
    },
    {
      "cell_type": "code",
      "source": [
        "val_max = np.argmax(pred_results[0])\n",
        "\n",
        "for key, val in tokenizer.word_index.items():\n",
        "    if val == val_max:\n",
        "        k = key\n",
        "\n",
        "print(\"Predicted answer is: \", k)\n",
        "print(\"Probability of certainty was: \", pred_results[0][val_max])"
      ],
      "metadata": {
        "colab": {
          "base_uri": "https://localhost:8080/"
        },
        "id": "287irb13MdjW",
        "outputId": "4b49bcf5-22ad-4f6a-a285-57ada5f2e59b"
      },
      "execution_count": 167,
      "outputs": [
        {
          "output_type": "stream",
          "name": "stdout",
          "text": [
            "Predicted answer is:  yes\n",
            "Probability of certainty was:  0.97802013\n"
          ]
        }
      ]
    },
    {
      "cell_type": "code",
      "source": [],
      "metadata": {
        "id": "DHhE9OcfNSY0"
      },
      "execution_count": null,
      "outputs": []
    }
  ]
}